{
 "cells": [
  {
   "cell_type": "code",
   "execution_count": null,
   "metadata": {},
   "outputs": [
    {
     "name": "stderr",
     "output_type": "stream",
     "text": [
      "Updating app_name and app_version in apps table: 0it [00:00, ?it/s]\n",
      "Updating app_id in records table: 0it [00:00, ?it/s]\n",
      "Updating app_json in apps table: 0it [00:00, ?it/s]\n"
     ]
    }
   ],
   "source": [
    "from trulens.core import TruSession\n",
    "\n",
    "session = TruSession()\n"
   ]
  },
  {
   "cell_type": "code",
   "execution_count": 67,
   "metadata": {},
   "outputs": [],
   "source": [
    "import pandas as pd\n",
    "\n",
    "data = {\n",
    "    \"query\": [\"what is AI?\"],\n",
    "    \"query_id\": [\"1\"],\n",
    "    \"expected_response\": [\"Artificial Intelligence\"],\n",
    "    \"expected_chunks\": [\n",
    "        [\n",
    "            {\n",
    "                \"text\": \"Register for Controlled or Semi-Controlled Drugs CustodyStart Service Bookmark service Service completion duration3 working daysView moreService feesRegister Fee AED300View moreExport asExport as  PDFExport as  XLSService Rating Average Rating : From 0 usersAbout the ServiceThis service enables clinics, pharmacies, and medical warehouses to submit application to obtain a register of controlled and semi-controlled drugs custody.Service Process1Login to the MoHAP website or smart app using the UAE PASS2The customer must fill\",\n",
    "                \"title\": \"Register for Controlled or Semi-Controlled Drugs CustodyStart Service Bookmark service Service completion duration3 working daysView moreService feesRegister Fee AED300View moreExport asExport as  PDFExport as  XLSService Rating Average Rating : From 0 usersAbout the ServiceThis service enables clinics, pharmacies, and medical warehouses to submit application to obtain a register of controlled and semi-controlled drugs custody.Service Process1Login to the MoHAP website or smart app using the UAE PASS2The customer must fill\",\n",
    "                \"expected_score\": 0.3404456353360334\n",
    "            },\n",
    "            {\n",
    "                \"text\": \"semi-controlled drugs custody.Service Process1Login to the MoHAP website or smart app using the UAE PASS2The customer must fill in the application form requesting the issuance of the register, and submit it3The application will be reviewed and verified by the Drug Department4If the application is approved, the customer must pay the associated fees online5Once the payment is processed, the controlled register will be sent to the customer via courierConditions & RequirementsThe healthcare facility must hold a valid\",\n",
    "                \"title\": \"semi-controlled drugs custody.Service Process1Login to the MoHAP website or smart app using the UAE PASS2The customer must fill in the application form requesting the issuance of the register, and submit it3The application will be reviewed and verified by the Drug Department4If the application is approved, the customer must pay the associated fees online5Once the payment is processed, the controlled register will be sent to the customer via courierConditions & RequirementsThe healthcare facility must hold a valid\",\n",
    "                \"expected_score\": 0.4386962207407254\n",
    "            },\n",
    "            {\n",
    "                \"text\": \"controlled register will be sent to the customer via courierConditions & RequirementsThe healthcare facility must hold a valid license.Service completion duration3 working daysService feesRegister Fee AED300Service channelsMOHAP WebsiteService locationsMOHAP Website (The service is available daily 24 hours)Supportcontrolledchemicals@mohap.gov.aePayment channelsE- PaymentTarget audiencePharmacies within private hospitals, licensed by MOHAP or DHCCPharmaceutical warehousesPharmacies licensed by MOHAP or DHCCClinics licensed\",\n",
    "                \"title\": \"controlled register will be sent to the customer via courierConditions & RequirementsThe healthcare facility must hold a valid license.Service completion duration3 working daysService feesRegister Fee AED300Service channelsMOHAP WebsiteService locationsMOHAP Website (The service is available daily 24 hours)Supportcontrolledchemicals@mohap.gov.aePayment channelsE- PaymentTarget audiencePharmacies within private hospitals, licensed by MOHAP or DHCCPharmaceutical warehousesPharmacies licensed by MOHAP or DHCCClinics licensed\",\n",
    "                \"expected_score\": 0.16432226213667867\n",
    "            },\n",
    "            {\n",
    "                \"text\": \"private hospitals, licensed by MOHAP or DHCCPharmaceutical warehousesPharmacies licensed by MOHAP or DHCCClinics licensed by MOHAP or DHCCResourcesInfographic - Register for controlled or semi-controlled drugs custody 636 KBDepartment nameDrugSector nameHealth RegulationMain serviceRegulation of Anesthetic drugs and chemical precursorsService Code110-46-013-000Service ClassficationTransactionalService TypeGovernment to BusinessSub Service TypeVariationNotesThe service is only available for healthcare facilities licensed\",\n",
    "                \"title\": \"private hospitals, licensed by MOHAP or DHCCPharmaceutical warehousesPharmacies licensed by MOHAP or DHCCClinics licensed by MOHAP or DHCCResourcesInfographic - Register for controlled or semi-controlled drugs custody 636 KBDepartment nameDrugSector nameHealth RegulationMain serviceRegulation of Anesthetic drugs and chemical precursorsService Code110-46-013-000Service ClassficationTransactionalService TypeGovernment to BusinessSub Service TypeVariationNotesThe service is only available for healthcare facilities licensed\",\n",
    "                \"expected_score\": 0.11147991228077468\n",
    "            },\n",
    "            {\n",
    "                \"text\": \"TypeGovernment to BusinessSub Service TypeVariationNotesThe service is only available for healthcare facilities licensed by MOHAP and DHCC.Required DocumentsA Letter addressed to the Director of Drug Department requesting the register.Copy of valid facility license.Sustainable Goals\",\n",
    "                \"title\": \"TypeGovernment to BusinessSub Service TypeVariationNotesThe service is only available for healthcare facilities licensed by MOHAP and DHCC.Required DocumentsA Letter addressed to the Director of Drug Department requesting the register.Copy of valid facility license.Sustainable Goals\",\n",
    "                \"expected_score\": 0.10173943037260114\n",
    "            }\n",
    "        ],\n",
    "    ],\n",
    "}\n",
    "\n",
    "df = pd.DataFrame(data)"
   ]
  },
  {
   "cell_type": "code",
   "execution_count": 68,
   "metadata": {},
   "outputs": [],
   "source": [
    "session.add_ground_truth_to_dataset(\n",
    "    dataset_name=\"test_dataset_ir\",\n",
    "    ground_truth_df=df,\n",
    "    dataset_metadata={\"domain\": \"Random IR dataset\"},\n",
    ")\n"
   ]
  },
  {
   "cell_type": "code",
   "execution_count": 69,
   "metadata": {},
   "outputs": [],
   "source": [
    "import pandas as pd\n",
    "\n",
    "data = {\n",
    "    \"query\": [\"adsfks adsgksa\"],\n",
    "    \"query_id\": [\"2\"],\n",
    "    \"expected_response\": [\"Artificial Intelligence\"],\n",
    "    \"expected_chunks\": [\n",
    "        [\n",
    "            {\n",
    "                \"text\": \"Register for Controlled or Semi-Controlled Drugs CustodyStart Service Bookmark service Service completion duration3 working daysView moreService feesRegister Fee AED300View moreExport asExport as  PDFExport as  XLSService Rating Average Rating : From 0 usersAbout the ServiceThis service enables clinics, pharmacies, and medical warehouses to submit application to obtain a register of controlled and semi-controlled drugs custody.Service Process1Login to the MoHAP website or smart app using the UAE PASS2The customer must fill\",\n",
    "                \"title\": \"Register for Controlled or Semi-Controlled Drugs CustodyStart Service Bookmark service Service completion duration3 working daysView moreService feesRegister Fee AED300View moreExport asExport as  PDFExport as  XLSService Rating Average Rating : From 0 usersAbout the ServiceThis service enables clinics, pharmacies, and medical warehouses to submit application to obtain a register of controlled and semi-controlled drugs custody.Service Process1Login to the MoHAP website or smart app using the UAE PASS2The customer must fill\",\n",
    "                \"expected_score\": 0.3404456353360334\n",
    "            },\n",
    "            {\n",
    "                \"text\": \"semi-controlled drugs custody.Service Process1Login to the MoHAP website or smart app using the UAE PASS2The customer must fill in the application form requesting the issuance of the register, and submit it3The application will be reviewed and verified by the Drug Department4If the application is approved, the customer must pay the associated fees online5Once the payment is processed, the controlled register will be sent to the customer via courierConditions & RequirementsThe healthcare facility must hold a valid\",\n",
    "                \"title\": \"semi-controlled drugs custody.Service Process1Login to the MoHAP website or smart app using the UAE PASS2The customer must fill in the application form requesting the issuance of the register, and submit it3The application will be reviewed and verified by the Drug Department4If the application is approved, the customer must pay the associated fees online5Once the payment is processed, the controlled register will be sent to the customer via courierConditions & RequirementsThe healthcare facility must hold a valid\",\n",
    "                \"expected_score\": 0.4386962207407254\n",
    "            },\n",
    "            {\n",
    "                \"text\": \"controlled register will be sent to the customer via courierConditions & RequirementsThe healthcare facility must hold a valid license.Service completion duration3 working daysService feesRegister Fee AED300Service channelsMOHAP WebsiteService locationsMOHAP Website (The service is available daily 24 hours)Supportcontrolledchemicals@mohap.gov.aePayment channelsE- PaymentTarget audiencePharmacies within private hospitals, licensed by MOHAP or DHCCPharmaceutical warehousesPharmacies licensed by MOHAP or DHCCClinics licensed\",\n",
    "                \"title\": \"controlled register will be sent to the customer via courierConditions & RequirementsThe healthcare facility must hold a valid license.Service completion duration3 working daysService feesRegister Fee AED300Service channelsMOHAP WebsiteService locationsMOHAP Website (The service is available daily 24 hours)Supportcontrolledchemicals@mohap.gov.aePayment channelsE- PaymentTarget audiencePharmacies within private hospitals, licensed by MOHAP or DHCCPharmaceutical warehousesPharmacies licensed by MOHAP or DHCCClinics licensed\",\n",
    "                \"expected_score\": 0.16432226213667867\n",
    "            },\n",
    "            {\n",
    "                \"text\": \"private hospitals, licensed by MOHAP or DHCCPharmaceutical warehousesPharmacies licensed by MOHAP or DHCCClinics licensed by MOHAP or DHCCResourcesInfographic - Register for controlled or semi-controlled drugs custody 636 KBDepartment nameDrugSector nameHealth RegulationMain serviceRegulation of Anesthetic drugs and chemical precursorsService Code110-46-013-000Service ClassficationTransactionalService TypeGovernment to BusinessSub Service TypeVariationNotesThe service is only available for healthcare facilities licensed\",\n",
    "                \"title\": \"private hospitals, licensed by MOHAP or DHCCPharmaceutical warehousesPharmacies licensed by MOHAP or DHCCClinics licensed by MOHAP or DHCCResourcesInfographic - Register for controlled or semi-controlled drugs custody 636 KBDepartment nameDrugSector nameHealth RegulationMain serviceRegulation of Anesthetic drugs and chemical precursorsService Code110-46-013-000Service ClassficationTransactionalService TypeGovernment to BusinessSub Service TypeVariationNotesThe service is only available for healthcare facilities licensed\",\n",
    "                \"expected_score\": 0.11147991228077468\n",
    "            },\n",
    "            {\n",
    "                \"text\": \"TypeGovernment to BusinessSub Service TypeVariationNotesThe service is only available for healthcare facilities licensed by MOHAP and DHCC.Required DocumentsA Letter addressed to the Director of Drug Department requesting the register.Copy of valid facility license.Sustainable Goals\",\n",
    "                \"title\": \"TypeGovernment to BusinessSub Service TypeVariationNotesThe service is only available for healthcare facilities licensed by MOHAP and DHCC.Required DocumentsA Letter addressed to the Director of Drug Department requesting the register.Copy of valid facility license.Sustainable Goals\",\n",
    "                \"expected_score\": 0.10173943037260114\n",
    "            }\n",
    "        ],\n",
    "    ],\n",
    "}\n",
    "\n",
    "df = pd.DataFrame(data)"
   ]
  },
  {
   "cell_type": "code",
   "execution_count": 70,
   "metadata": {},
   "outputs": [],
   "source": [
    "session.add_ground_truth_to_dataset(\n",
    "    dataset_name=\"test_dataset_ir\",\n",
    "    ground_truth_df=df,\n",
    "    dataset_metadata={\"domain\": \"Random IR dataset\"},\n",
    ")\n"
   ]
  },
  {
   "cell_type": "code",
   "execution_count": 71,
   "metadata": {},
   "outputs": [],
   "source": [
    "ground_truth_df = session.get_ground_truth(\"test_dataset_ir\")"
   ]
  },
  {
   "cell_type": "code",
   "execution_count": 72,
   "metadata": {},
   "outputs": [
    {
     "data": {
      "text/html": [
       "<div>\n",
       "<style scoped>\n",
       "    .dataframe tbody tr th:only-of-type {\n",
       "        vertical-align: middle;\n",
       "    }\n",
       "\n",
       "    .dataframe tbody tr th {\n",
       "        vertical-align: top;\n",
       "    }\n",
       "\n",
       "    .dataframe thead th {\n",
       "        text-align: right;\n",
       "    }\n",
       "</style>\n",
       "<table border=\"1\" class=\"dataframe\">\n",
       "  <thead>\n",
       "    <tr style=\"text-align: right;\">\n",
       "      <th></th>\n",
       "      <th>ground_truth_id</th>\n",
       "      <th>dataset_id</th>\n",
       "      <th>query</th>\n",
       "      <th>query_id</th>\n",
       "      <th>expected_response</th>\n",
       "      <th>expected_chunks</th>\n",
       "      <th>meta</th>\n",
       "    </tr>\n",
       "  </thead>\n",
       "  <tbody>\n",
       "    <tr>\n",
       "      <th>0</th>\n",
       "      <td>ground_truth_hash_17ba71fa2c7a2768b503bd8f527e...</td>\n",
       "      <td>dataset_hash_b720d59fa18f93c3b8c936397adc99f7</td>\n",
       "      <td>what is AI?</td>\n",
       "      <td>1</td>\n",
       "      <td>Artificial Intelligence</td>\n",
       "      <td>[{'text': 'Register for Controlled or Semi-Con...</td>\n",
       "      <td>{}</td>\n",
       "    </tr>\n",
       "    <tr>\n",
       "      <th>1</th>\n",
       "      <td>ground_truth_hash_48928628d9b11b6c9f1395aa2a3f...</td>\n",
       "      <td>dataset_hash_b720d59fa18f93c3b8c936397adc99f7</td>\n",
       "      <td>adsfks adsgksa adsgasd</td>\n",
       "      <td>2</td>\n",
       "      <td>adsfsadfsad</td>\n",
       "      <td>[{'text': 'Register for Controlled or Semi-Con...</td>\n",
       "      <td>{}</td>\n",
       "    </tr>\n",
       "    <tr>\n",
       "      <th>2</th>\n",
       "      <td>ground_truth_hash_a871bae8652898ae863c9c21fcff...</td>\n",
       "      <td>dataset_hash_b720d59fa18f93c3b8c936397adc99f7</td>\n",
       "      <td>adsfks adsgksa</td>\n",
       "      <td>2</td>\n",
       "      <td>Artificial Intelligence</td>\n",
       "      <td>[{'text': 'Register for Controlled or Semi-Con...</td>\n",
       "      <td>{}</td>\n",
       "    </tr>\n",
       "  </tbody>\n",
       "</table>\n",
       "</div>"
      ],
      "text/plain": [
       "                                     ground_truth_id  \\\n",
       "0  ground_truth_hash_17ba71fa2c7a2768b503bd8f527e...   \n",
       "1  ground_truth_hash_48928628d9b11b6c9f1395aa2a3f...   \n",
       "2  ground_truth_hash_a871bae8652898ae863c9c21fcff...   \n",
       "\n",
       "                                      dataset_id                   query  \\\n",
       "0  dataset_hash_b720d59fa18f93c3b8c936397adc99f7             what is AI?   \n",
       "1  dataset_hash_b720d59fa18f93c3b8c936397adc99f7  adsfks adsgksa adsgasd   \n",
       "2  dataset_hash_b720d59fa18f93c3b8c936397adc99f7          adsfks adsgksa   \n",
       "\n",
       "  query_id        expected_response  \\\n",
       "0        1  Artificial Intelligence   \n",
       "1        2              adsfsadfsad   \n",
       "2        2  Artificial Intelligence   \n",
       "\n",
       "                                     expected_chunks meta  \n",
       "0  [{'text': 'Register for Controlled or Semi-Con...   {}  \n",
       "1  [{'text': 'Register for Controlled or Semi-Con...   {}  \n",
       "2  [{'text': 'Register for Controlled or Semi-Con...   {}  "
      ]
     },
     "execution_count": 72,
     "metadata": {},
     "output_type": "execute_result"
    }
   ],
   "source": [
    "ground_truth_df"
   ]
  },
  {
   "cell_type": "code",
   "execution_count": null,
   "metadata": {},
   "outputs": [],
   "source": [
    "session.add_ground_truth_to_dataset(\n",
    "    dataset_name=\"test_dataset_ir\",\n",
    "    ground_truth_df=df,\n",
    "    dataset_metadata={\"domain\": \"Random IR dataset\"},\n",
    ")\n"
   ]
  },
  {
   "cell_type": "code",
   "execution_count": 61,
   "metadata": {},
   "outputs": [
    {
     "name": "stdout",
     "output_type": "stream",
     "text": [
      "✅ In IR hit rate, input query will be set to __record__.app.retrieve_and_generate.args.query .\n",
      "✅ In IR hit rate, input retrieved_context_chunks will be set to __record__.app.retrieve_and_generate.rets[1] .\n",
      "✅ In IR hit rate, input k will be set to __record__.app.retrieve_and_generate.args.k .\n",
      "✅ In NDCG@k, input query will be set to __record__.app.retrieve_and_generate.args.query .\n",
      "✅ In NDCG@k, input retrieved_context_chunks will be set to __record__.app.retrieve_and_generate.rets[1] .\n",
      "✅ In NDCG@k, input relevance_scores will be set to __record__.app.retrieve_and_generate.rets[2] .\n",
      "✅ In NDCG@k, input k will be set to __record__.app.retrieve_and_generate.args.k .\n",
      "✅ In Recall@k, input query will be set to __record__.app.retrieve_and_generate.args.query .\n",
      "✅ In Recall@k, input retrieved_context_chunks will be set to __record__.app.retrieve_and_generate.rets[1] .\n",
      "✅ In Recall@k, input relevance_scores will be set to __record__.app.retrieve_and_generate.rets[2] .\n",
      "✅ In Recall@k, input k will be set to __record__.app.retrieve_and_generate.args.k .\n",
      "✅ In Ground Truth answer (semantic similarity), input prompt will be set to __record__.app.retrieve_and_generate.args.query .\n",
      "✅ In Ground Truth answer (semantic similarity), input response will be set to __record__.app.retrieve_and_generate.rets[0] .\n"
     ]
    }
   ],
   "source": [
    "from trulens.core import Feedback\n",
    "from trulens.core.schema.select import Select\n",
    "from trulens.feedback import GroundTruthAgreement\n",
    "from trulens.providers.openai import OpenAI as fOpenAI\n",
    "\n",
    "# define argument selectors (Lens) based on the setup of the application so that the feedback can be applied to the correct function calls\n",
    "arg_query_selector = (\n",
    "    Select.RecordCalls.retrieve_and_generate.args.query\n",
    ")  # 1st argument of retrieve_and_generate function\n",
    "arg_retrieval_k_selector = (\n",
    "    Select.RecordCalls.retrieve_and_generate.args.k\n",
    ")  # 2nd argument of retrieve_and_generate function\n",
    "\n",
    "\n",
    "\n",
    "arg_completion_str_selector = Select.RecordCalls.retrieve_and_generate.rets[\n",
    "    0\n",
    "]  # 1st returned value from retrieve_and_generate function\n",
    "arg_retrieved_context_selector = Select.RecordCalls.retrieve_and_generate.rets[\n",
    "    1\n",
    "]  # 2nd returned value from retrieve_and_generate function\n",
    "arg_relevance_scores_selector = Select.RecordCalls.retrieve_and_generate.rets[\n",
    "    2\n",
    "]  # last returned value from retrieve_and_generate function\n",
    "\n",
    "f_ir_hit_rate = (\n",
    "    Feedback(\n",
    "        GroundTruthAgreement(ground_truth_df, provider=fOpenAI()).ir_hit_rate,\n",
    "        name=\"IR hit rate\",\n",
    "    )\n",
    "    .on(arg_query_selector)\n",
    "    .on(arg_retrieved_context_selector)\n",
    "    .on(arg_retrieval_k_selector)\n",
    ")\n",
    "\n",
    "f_ndcg_at_k = (\n",
    "    Feedback(\n",
    "        GroundTruthAgreement(ground_truth_df, provider=fOpenAI()).ndcg_at_k,\n",
    "        name=\"NDCG@k\",\n",
    "    )\n",
    "    .on(arg_query_selector)\n",
    "    .on(arg_retrieved_context_selector)\n",
    "    .on(arg_relevance_scores_selector)\n",
    "    .on(arg_retrieval_k_selector)\n",
    ")\n",
    "\n",
    "\n",
    "f_recall_at_k = (\n",
    "    Feedback(\n",
    "        GroundTruthAgreement(ground_truth_df, provider=fOpenAI()).recall_at_k,\n",
    "        name=\"Recall@k\",\n",
    "    )\n",
    "    .on(arg_query_selector)\n",
    "    .on(arg_retrieved_context_selector)\n",
    "    .on(arg_relevance_scores_selector)\n",
    "    .on(arg_retrieval_k_selector)\n",
    ")\n",
    "f_groundtruth_answer = (\n",
    "    Feedback(\n",
    "        GroundTruthAgreement(ground_truth_df).agreement_measure,\n",
    "        name=\"Ground Truth answer (semantic similarity)\",\n",
    "    )\n",
    "    .on(arg_query_selector)\n",
    "    .on(arg_completion_str_selector)\n",
    ")"
   ]
  },
  {
   "cell_type": "code",
   "execution_count": 62,
   "metadata": {},
   "outputs": [],
   "source": [
    "from typing import List, Tuple\n",
    "\n",
    "from openai import OpenAI\n",
    "from trulens.apps.custom import TruCustomApp\n",
    "from trulens.apps.custom import instrument\n",
    "\n",
    "oai_client = OpenAI()\n",
    "\n",
    "\n",
    "class APP:\n",
    "    @instrument\n",
    "    def retrieve_and_generate(\n",
    "        self, query: str, k: int\n",
    "    ) -> Tuple[str | None, List[str], List[float]]:\n",
    "        # k is needed for specific metrics computation like NDCG@k\n",
    "        completion_str = (\n",
    "            oai_client.chat.completions.create(\n",
    "                model=\"gpt-4o-mini\",\n",
    "                temperature=0,\n",
    "                messages=[\n",
    "                    {\n",
    "                        \"role\": \"user\",\n",
    "                        \"content\": f\"Please answer the question: {query}\",\n",
    "                    }\n",
    "                ],\n",
    "            )\n",
    "            .choices[0]\n",
    "            .message.content\n",
    "        )\n",
    "        retrieved_chunks = [\n",
    "            \"AI is the future of humanity.\",\n",
    "            \"AI is going to replace all human labor.\",\n",
    "        ]  # here simulated retrieval results. In real-world, this should come from a retrieval model\n",
    "\n",
    "        retrieval_scores = [\n",
    "            1.0,\n",
    "            0.85,\n",
    "        ]  # optional scores typically come from a retrieval model\n",
    "        return completion_str, retrieved_chunks, retrieval_scores\n",
    "\n",
    "\n",
    "retrieval_app = APP()\n",
    "# add trulens as a context manager for llm_app\n",
    "\n",
    "\n",
    "tru_app = TruCustomApp(\n",
    "    retrieval_app,\n",
    "    app_name=\"Retrieval App v1\",\n",
    "    feedbacks=[f_ir_hit_rate, f_ndcg_at_k, f_recall_at_k, f_groundtruth_answer],\n",
    ")"
   ]
  },
  {
   "cell_type": "code",
   "execution_count": null,
   "metadata": {},
   "outputs": [],
   "source": [
    "with tru_app as recording:\n",
    "    resp = retrieval_app.retrieve_and_generate(\"salmo?\", 2)"
   ]
  },
  {
   "cell_type": "code",
   "execution_count": 64,
   "metadata": {},
   "outputs": [
    {
     "data": {
      "text/html": [
       "<div>\n",
       "<style scoped>\n",
       "    .dataframe tbody tr th:only-of-type {\n",
       "        vertical-align: middle;\n",
       "    }\n",
       "\n",
       "    .dataframe tbody tr th {\n",
       "        vertical-align: top;\n",
       "    }\n",
       "\n",
       "    .dataframe thead th {\n",
       "        text-align: right;\n",
       "    }\n",
       "</style>\n",
       "<table border=\"1\" class=\"dataframe\">\n",
       "  <thead>\n",
       "    <tr style=\"text-align: right;\">\n",
       "      <th></th>\n",
       "      <th></th>\n",
       "      <th>latency</th>\n",
       "      <th>total_cost</th>\n",
       "    </tr>\n",
       "    <tr>\n",
       "      <th>app_name</th>\n",
       "      <th>app_version</th>\n",
       "      <th></th>\n",
       "      <th></th>\n",
       "    </tr>\n",
       "  </thead>\n",
       "  <tbody>\n",
       "    <tr>\n",
       "      <th>Retrieval App v1</th>\n",
       "      <th>base</th>\n",
       "      <td>2.516607</td>\n",
       "      <td>0.00004</td>\n",
       "    </tr>\n",
       "  </tbody>\n",
       "</table>\n",
       "</div>"
      ],
      "text/plain": [
       "                               latency  total_cost\n",
       "app_name         app_version                      \n",
       "Retrieval App v1 base         2.516607     0.00004"
      ]
     },
     "execution_count": 64,
     "metadata": {},
     "output_type": "execute_result"
    }
   ],
   "source": [
    "session.get_leaderboard(app_ids=[tru_app.app_id])"
   ]
  },
  {
   "cell_type": "code",
   "execution_count": 65,
   "metadata": {},
   "outputs": [
    {
     "name": "stdout",
     "output_type": "stream",
     "text": [
      "Starting dashboard ...\n",
      "Dashboard already running at path:   Network URL: http://192.168.1.12:23390\n",
      "\n"
     ]
    },
    {
     "data": {
      "text/plain": [
       "<Popen: returncode: None args: ['streamlit', 'run', '--server.headless=True'...>"
      ]
     },
     "execution_count": 65,
     "metadata": {},
     "output_type": "execute_result"
    }
   ],
   "source": [
    "from trulens.dashboard import run_dashboard\n",
    "run_dashboard(session)"
   ]
  },
  {
   "cell_type": "code",
   "execution_count": null,
   "metadata": {},
   "outputs": [],
   "source": []
  }
 ],
 "metadata": {
  "kernelspec": {
   "display_name": "env",
   "language": "python",
   "name": "python3"
  },
  "language_info": {
   "codemirror_mode": {
    "name": "ipython",
    "version": 3
   },
   "file_extension": ".py",
   "mimetype": "text/x-python",
   "name": "python",
   "nbconvert_exporter": "python",
   "pygments_lexer": "ipython3",
   "version": "3.12.7"
  }
 },
 "nbformat": 4,
 "nbformat_minor": 2
}
